{
 "cells": [
  {
   "cell_type": "code",
   "execution_count": 15,
   "metadata": {},
   "outputs": [],
   "source": [
    "import matplotlib.pyplot as plt\n",
    "from math import log\n",
    "\n",
    "\n",
    "# lookup table for the trajectories and their derivatives\n",
    "FXS = {\n",
    "  \"$x$\": (lambda x: x, lambda x: 1, lambda x: 0),\n",
    "  \"$x^2$\": (lambda x: x**2, lambda x: 2*x, lambda x: 2),\n",
    "  \"$x^3$\": (lambda x: x**3, lambda x: 3*x**2, lambda x: 6*x),\n",
    "  \"$log(x)$\": (lambda x: log(x), lambda x: 1/x, lambda x: -1/x**2),\n",
    "  \"$xlog(x)$\": (lambda x: x*log(x), lambda x: log(x) + 1, lambda x: 1/x),\n",
    "  \"$2^x$\": (lambda x: 2**x, lambda x: log(2)*2**x, lambda x: log(2)**2*2**x)\n",
    "}\n",
    "\n",
    "# num of iterations before we can potentially stop early\n",
    "EARLY_STOP = 20\n",
    "\n",
    "\n",
    "# return 2nd degree taylor expansion of f(x) at x0\n",
    "def taylor_expansion(x0, y, f1, f2):\n",
    "  return lambda x: y + f1(x0)*(x-x0) + f2(x0)*(x-x0)**2/2"
   ]
  },
  {
   "cell_type": "code",
   "execution_count": 16,
   "metadata": {},
   "outputs": [
    {
     "name": "stdout",
     "output_type": "stream",
     "text": [
      "30.0\n",
      "520.0\n",
      "18020.0\n",
      "20.375\n",
      "62.45732273553991\n",
      "32457769.95614285\n"
     ]
    }
   ],
   "source": [
    "# fib sequence vanilla func\n",
    "# def fib(n):\n",
    "#   if n < 2:\n",
    "#     return n\n",
    "#   return fib(n-1) + fib(n-2)\n",
    "\n",
    "# # generate data\n",
    "# x = list(range(1, 30))\n",
    "# y = [fib(i) for i in x]\n",
    "\n",
    "for k, v in FXS.items():\n",
    "  print(taylor_expansion(20, 20, v[1], v[2])(30))"
   ]
  },
  {
   "cell_type": "code",
   "execution_count": null,
   "metadata": {},
   "outputs": [],
   "source": []
  }
 ],
 "metadata": {
  "kernelspec": {
   "display_name": "Python 3.9.7 ('base')",
   "language": "python",
   "name": "python3"
  },
  "language_info": {
   "codemirror_mode": {
    "name": "ipython",
    "version": 3
   },
   "file_extension": ".py",
   "mimetype": "text/x-python",
   "name": "python",
   "nbconvert_exporter": "python",
   "pygments_lexer": "ipython3",
   "version": "3.9.7"
  },
  "orig_nbformat": 4,
  "vscode": {
   "interpreter": {
    "hash": "48cf2930e6d3580d2f9e9b9c9063ba1f61a59bbd7ace96221f30eb7c9a87623b"
   }
  }
 },
 "nbformat": 4,
 "nbformat_minor": 2
}
